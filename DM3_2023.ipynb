{
 "cells": [
  {
   "cell_type": "markdown",
   "metadata": {
    "id": "_uKXVZtkK64S",
    "pycharm": {
     "name": "#%% md\n"
    }
   },
   "source": [
    "# Analyzing word and document frequency: tf-idf\n",
    "\n",
    "A central question in text mining and natural language processing is how to quantify what a document is about. Can we do this by looking at the words that make up the document? \n",
    "\n",
    "One measure of how important a word may be is its term frequency (tf). \n",
    "\n",
    "This is how frequently a word occurs in a document - as we saw in Lab 2. However, there are words in a document that occur many times but may not be important. In English these words are most often things like “the”, “is”, “of”, and so forth. We might take the approach of adding words like these to a list of stop words and removing them before analysis, but it is possible that some of these words might be more important in some documents than others. A list of stop words is not a very sophisticated approach to adjusting term frequency for commonly used words.\n",
    "\n",
    "Another approach is to look at a term’s inverse document frequency (idf), which decreases the weight for commonly used words and increases the weight for words that are not used very much in a collection of documents. This can be combined with term frequency to calculate a term’s tf-idf (the two quantities multiplied together), the frequency of a term adjusted for how rarely it is used.\n",
    "\n",
    "The tf-idf statistic is intended to measure how important a word is to a document in a collection (or corpus) of documents, for example, to one novel in a collection of novels or to one website in a collection of websites."
   ]
  },
  {
   "cell_type": "markdown",
   "metadata": {
    "id": "WfHhLTSPjeFT",
    "pycharm": {
     "name": "#%% md\n"
    }
   },
   "source": [
    "### Preparing data"
   ]
  },
  {
   "cell_type": "code",
   "execution_count": 72,
   "metadata": {
    "colab": {
     "base_uri": "https://localhost:8080/",
     "height": 206
    },
    "id": "2WwebKjQE4ij",
    "outputId": "437d2830-8a02-4a78-d935-3ae5ff347cb5",
    "pycharm": {
     "name": "#%%\n"
    }
   },
   "outputs": [
    {
     "data": {
      "text/plain": "                                                line  line_number       book\n0  The Project Gutenberg eBook of Jane Eyre by Ch...            0  Jane Eyre\n1                                                               1  Jane Eyre\n2  This eBook is for the use of anyone anywhere i...            2  Jane Eyre\n3  most other parts of the world at no cost and w...            3  Jane Eyre\n4  whatsoever You may copy it give it away or reu...            4  Jane Eyre",
      "text/html": "<div>\n<style scoped>\n    .dataframe tbody tr th:only-of-type {\n        vertical-align: middle;\n    }\n\n    .dataframe tbody tr th {\n        vertical-align: top;\n    }\n\n    .dataframe thead th {\n        text-align: right;\n    }\n</style>\n<table border=\"1\" class=\"dataframe\">\n  <thead>\n    <tr style=\"text-align: right;\">\n      <th></th>\n      <th>line</th>\n      <th>line_number</th>\n      <th>book</th>\n    </tr>\n  </thead>\n  <tbody>\n    <tr>\n      <th>0</th>\n      <td>The Project Gutenberg eBook of Jane Eyre by Ch...</td>\n      <td>0</td>\n      <td>Jane Eyre</td>\n    </tr>\n    <tr>\n      <th>1</th>\n      <td></td>\n      <td>1</td>\n      <td>Jane Eyre</td>\n    </tr>\n    <tr>\n      <th>2</th>\n      <td>This eBook is for the use of anyone anywhere i...</td>\n      <td>2</td>\n      <td>Jane Eyre</td>\n    </tr>\n    <tr>\n      <th>3</th>\n      <td>most other parts of the world at no cost and w...</td>\n      <td>3</td>\n      <td>Jane Eyre</td>\n    </tr>\n    <tr>\n      <th>4</th>\n      <td>whatsoever You may copy it give it away or reu...</td>\n      <td>4</td>\n      <td>Jane Eyre</td>\n    </tr>\n  </tbody>\n</table>\n</div>"
     },
     "execution_count": 72,
     "metadata": {},
     "output_type": "execute_result"
    }
   ],
   "source": [
    "import requests\n",
    "import string\n",
    "import pandas as pd\n",
    "\n",
    "# Jane Eyre\n",
    "book_url = 'https://www.gutenberg.org/files/1260/1260-0.txt'\n",
    "response = requests.get(book_url)\n",
    "bronte1 = response.text\n",
    "allowed_chars = string.ascii_letters + string.digits + string.whitespace\n",
    "bronte1 = ''.join(c for c in bronte1 if c in allowed_chars)\n",
    "\n",
    "# Wuthering Heights\n",
    "book_url = 'https://www.gutenberg.org/cache/epub/768/pg768.txt'\n",
    "response = requests.get(book_url)\n",
    "bronte2 = response.text\n",
    "allowed_chars = string.ascii_letters + string.digits + string.whitespace\n",
    "bronte2 = ''.join(c for c in bronte2 if c in allowed_chars)\n",
    "\n",
    "# Vilette\n",
    "book_url = 'https://www.gutenberg.org/files/9182/9182-0.txt'\n",
    "response = requests.get(book_url)\n",
    "bronte3 = response.text\n",
    "allowed_chars = string.ascii_letters + string.digits + string.whitespace\n",
    "bronte3 = ''.join(c for c in bronte3 if c in allowed_chars)\n",
    "\n",
    "# Agnes Gray\n",
    "book_url = 'https://www.gutenberg.org/files/767/767-0.txt'\n",
    "response = requests.get(book_url)\n",
    "bronte4 = response.text\n",
    "allowed_chars = string.ascii_letters + string.digits + string.whitespace\n",
    "bronte4 = ''.join(c for c in bronte4 if c in allowed_chars)\n",
    "\n",
    "# Create our dataframes\n",
    "bronte1_lines = bronte1.splitlines()\n",
    "\n",
    "bronte1_df = pd.DataFrame({\n",
    "    \"line\": bronte1_lines,\n",
    "    \"line_number\": list(range(len(bronte1_lines)))\n",
    "})\n",
    "\n",
    "bronte2_lines = bronte2.splitlines()\n",
    "\n",
    "bronte2_df = pd.DataFrame({\n",
    "    \"line\": bronte2_lines,\n",
    "    \"line_number\": list(range(len(bronte2_lines)))\n",
    "})\n",
    "\n",
    "bronte3_lines = bronte3.splitlines()\n",
    "\n",
    "bronte3_df = pd.DataFrame({\n",
    "    \"line\": bronte3_lines,\n",
    "    \"line_number\": list(range(len(bronte3_lines)))\n",
    "})\n",
    "\n",
    "bronte4_lines = bronte4.splitlines()\n",
    "\n",
    "bronte4_df = pd.DataFrame({\n",
    "    \"line\": bronte4_lines,\n",
    "    \"line_number\": list(range(len(bronte4_lines)))\n",
    "})\n",
    "\n",
    "# We’ll want to know which content comes from which book\n",
    "bronte1_df = bronte1_df.assign(book = 'Jane Eyre')\n",
    "bronte2_df = bronte2_df.assign(book = 'Wuthering Heights')\n",
    "bronte3_df = bronte3_df.assign(book = 'Vilette')\n",
    "bronte4_df = bronte4_df.assign(book = 'Agnes Grey')\n",
    "\n",
    "# Finally, we concatenate the books into one dataframe\n",
    "books = [bronte1_df, bronte2_df, bronte3_df, bronte4_df]\n",
    "bronte_books_df = pd.concat(books)\n",
    "bronte_books_df.head()"
   ]
  },
  {
   "cell_type": "code",
   "execution_count": 73,
   "metadata": {
    "colab": {
     "base_uri": "https://localhost:8080/",
     "height": 206
    },
    "id": "kXaeFADMLSzt",
    "outputId": "e1594a68-82b4-4469-d85f-84564c63cf10",
    "pycharm": {
     "name": "#%%\n"
    }
   },
   "outputs": [
    {
     "data": {
      "text/plain": "                                                line  line_number       book  \\\n0  The Project Gutenberg eBook of Jane Eyre by Ch...            0  Jane Eyre   \n1  The Project Gutenberg eBook of Jane Eyre by Ch...            0  Jane Eyre   \n2  The Project Gutenberg eBook of Jane Eyre by Ch...            0  Jane Eyre   \n3  The Project Gutenberg eBook of Jane Eyre by Ch...            0  Jane Eyre   \n4  The Project Gutenberg eBook of Jane Eyre by Ch...            0  Jane Eyre   \n\n        word  \n0        The  \n1    Project  \n2  Gutenberg  \n3      eBook  \n4         of  ",
      "text/html": "<div>\n<style scoped>\n    .dataframe tbody tr th:only-of-type {\n        vertical-align: middle;\n    }\n\n    .dataframe tbody tr th {\n        vertical-align: top;\n    }\n\n    .dataframe thead th {\n        text-align: right;\n    }\n</style>\n<table border=\"1\" class=\"dataframe\">\n  <thead>\n    <tr style=\"text-align: right;\">\n      <th></th>\n      <th>line</th>\n      <th>line_number</th>\n      <th>book</th>\n      <th>word</th>\n    </tr>\n  </thead>\n  <tbody>\n    <tr>\n      <th>0</th>\n      <td>The Project Gutenberg eBook of Jane Eyre by Ch...</td>\n      <td>0</td>\n      <td>Jane Eyre</td>\n      <td>The</td>\n    </tr>\n    <tr>\n      <th>1</th>\n      <td>The Project Gutenberg eBook of Jane Eyre by Ch...</td>\n      <td>0</td>\n      <td>Jane Eyre</td>\n      <td>Project</td>\n    </tr>\n    <tr>\n      <th>2</th>\n      <td>The Project Gutenberg eBook of Jane Eyre by Ch...</td>\n      <td>0</td>\n      <td>Jane Eyre</td>\n      <td>Gutenberg</td>\n    </tr>\n    <tr>\n      <th>3</th>\n      <td>The Project Gutenberg eBook of Jane Eyre by Ch...</td>\n      <td>0</td>\n      <td>Jane Eyre</td>\n      <td>eBook</td>\n    </tr>\n    <tr>\n      <th>4</th>\n      <td>The Project Gutenberg eBook of Jane Eyre by Ch...</td>\n      <td>0</td>\n      <td>Jane Eyre</td>\n      <td>of</td>\n    </tr>\n  </tbody>\n</table>\n</div>"
     },
     "execution_count": 73,
     "metadata": {},
     "output_type": "execute_result"
    }
   ],
   "source": [
    "# We split the data into words\n",
    "# We first split the text column into a list of words\n",
    "bronte_books_df['word'] = bronte_books_df['line'].str.split()\n",
    "\n",
    "# Explode the words column to create a new row for each word (this creates a separate row for each word from the newly created words list)\n",
    "bronte_books_df = bronte_books_df.explode('word')\n",
    "\n",
    "# Reset the index of the dataframe (we want to index each word now)\n",
    "bronte_books_df = bronte_books_df.reset_index(drop=True)\n",
    "bronte_books_df.head()"
   ]
  },
  {
   "cell_type": "code",
   "execution_count": 74,
   "metadata": {
    "colab": {
     "base_uri": "https://localhost:8080/",
     "height": 423
    },
    "id": "ydf-IDidhH3l",
    "outputId": "bb60c45f-1291-4a9d-8983-734001c15f77",
    "pycharm": {
     "name": "#%%\n"
    }
   },
   "outputs": [
    {
     "data": {
      "text/plain": "              book       word\n0        Jane Eyre        The\n1        Jane Eyre    Project\n2        Jane Eyre  Gutenberg\n3        Jane Eyre      eBook\n4        Jane Eyre         of\n...            ...        ...\n585196  Agnes Grey      about\n585197  Agnes Grey        new\n585198  Agnes Grey     eBooks\n585199  Agnes Grey        NaN\n585200  Agnes Grey        NaN\n\n[585201 rows x 2 columns]",
      "text/html": "<div>\n<style scoped>\n    .dataframe tbody tr th:only-of-type {\n        vertical-align: middle;\n    }\n\n    .dataframe tbody tr th {\n        vertical-align: top;\n    }\n\n    .dataframe thead th {\n        text-align: right;\n    }\n</style>\n<table border=\"1\" class=\"dataframe\">\n  <thead>\n    <tr style=\"text-align: right;\">\n      <th></th>\n      <th>book</th>\n      <th>word</th>\n    </tr>\n  </thead>\n  <tbody>\n    <tr>\n      <th>0</th>\n      <td>Jane Eyre</td>\n      <td>The</td>\n    </tr>\n    <tr>\n      <th>1</th>\n      <td>Jane Eyre</td>\n      <td>Project</td>\n    </tr>\n    <tr>\n      <th>2</th>\n      <td>Jane Eyre</td>\n      <td>Gutenberg</td>\n    </tr>\n    <tr>\n      <th>3</th>\n      <td>Jane Eyre</td>\n      <td>eBook</td>\n    </tr>\n    <tr>\n      <th>4</th>\n      <td>Jane Eyre</td>\n      <td>of</td>\n    </tr>\n    <tr>\n      <th>...</th>\n      <td>...</td>\n      <td>...</td>\n    </tr>\n    <tr>\n      <th>585196</th>\n      <td>Agnes Grey</td>\n      <td>about</td>\n    </tr>\n    <tr>\n      <th>585197</th>\n      <td>Agnes Grey</td>\n      <td>new</td>\n    </tr>\n    <tr>\n      <th>585198</th>\n      <td>Agnes Grey</td>\n      <td>eBooks</td>\n    </tr>\n    <tr>\n      <th>585199</th>\n      <td>Agnes Grey</td>\n      <td>NaN</td>\n    </tr>\n    <tr>\n      <th>585200</th>\n      <td>Agnes Grey</td>\n      <td>NaN</td>\n    </tr>\n  </tbody>\n</table>\n<p>585201 rows × 2 columns</p>\n</div>"
     },
     "execution_count": 74,
     "metadata": {},
     "output_type": "execute_result"
    }
   ],
   "source": [
    "# For our investigations the line & line_number columns will not be necessary, so we will remove them\n",
    "bronte_books_df = bronte_books_df[['book', 'word']]\n",
    "bronte_books_df"
   ]
  },
  {
   "cell_type": "markdown",
   "metadata": {
    "id": "CR1EMwLsjkkE",
    "pycharm": {
     "name": "#%% md\n"
    }
   },
   "source": [
    "### Word counting revisited"
   ]
  },
  {
   "cell_type": "code",
   "execution_count": 75,
   "metadata": {
    "colab": {
     "base_uri": "https://localhost:8080/"
    },
    "id": "mFpgEpwpTkvF",
    "outputId": "11f5475c-1b09-4357-f216-937ea20b3ee9",
    "pycharm": {
     "name": "#%%\n"
    }
   },
   "outputs": [
    {
     "data": {
      "text/plain": "word\nthe    22423\nand    19617\nI      18439\nto     15784\nof     13370\na      12297\nin      8104\nwas     7444\nyou     6431\nher     5981\nName: word, dtype: int64"
     },
     "execution_count": 75,
     "metadata": {},
     "output_type": "execute_result"
    }
   ],
   "source": [
    "# Let's count the occurrences of each word - this is a prerequisite for finding term frequency\n",
    "count_df = bronte_books_df.groupby('word')['word'].count() # Group by word column, then only keep the word column and perform the counting\n",
    "\n",
    "# Let's sort by term frequency\n",
    "count_df_sorted = count_df.sort_values(ascending=False)\n",
    "\n",
    "pd.set_option('display.max_rows', 10) # You can change the max number of rows that get displayed\n",
    "count_df_sorted.head(10)"
   ]
  },
  {
   "cell_type": "code",
   "execution_count": 76,
   "metadata": {
    "colab": {
     "base_uri": "https://localhost:8080/",
     "height": 423
    },
    "id": "nRQCh5DndV1s",
    "outputId": "3aa0310f-0376-4eb4-ece0-1532c773c0fd",
    "pycharm": {
     "name": "#%%\n"
    }
   },
   "outputs": [
    {
     "data": {
      "text/plain": "             word  count\n0             the  22423\n1             and  19617\n2               I  18439\n3              to  15784\n4              of  13370\n...           ...    ...\n30118  glovessuch      1\n30119   gloveless      1\n30120    glossily      1\n30121   glossiest      1\n30122       zurck      1\n\n[30123 rows x 2 columns]",
      "text/html": "<div>\n<style scoped>\n    .dataframe tbody tr th:only-of-type {\n        vertical-align: middle;\n    }\n\n    .dataframe tbody tr th {\n        vertical-align: top;\n    }\n\n    .dataframe thead th {\n        text-align: right;\n    }\n</style>\n<table border=\"1\" class=\"dataframe\">\n  <thead>\n    <tr style=\"text-align: right;\">\n      <th></th>\n      <th>word</th>\n      <th>count</th>\n    </tr>\n  </thead>\n  <tbody>\n    <tr>\n      <th>0</th>\n      <td>the</td>\n      <td>22423</td>\n    </tr>\n    <tr>\n      <th>1</th>\n      <td>and</td>\n      <td>19617</td>\n    </tr>\n    <tr>\n      <th>2</th>\n      <td>I</td>\n      <td>18439</td>\n    </tr>\n    <tr>\n      <th>3</th>\n      <td>to</td>\n      <td>15784</td>\n    </tr>\n    <tr>\n      <th>4</th>\n      <td>of</td>\n      <td>13370</td>\n    </tr>\n    <tr>\n      <th>...</th>\n      <td>...</td>\n      <td>...</td>\n    </tr>\n    <tr>\n      <th>30118</th>\n      <td>glovessuch</td>\n      <td>1</td>\n    </tr>\n    <tr>\n      <th>30119</th>\n      <td>gloveless</td>\n      <td>1</td>\n    </tr>\n    <tr>\n      <th>30120</th>\n      <td>glossily</td>\n      <td>1</td>\n    </tr>\n    <tr>\n      <th>30121</th>\n      <td>glossiest</td>\n      <td>1</td>\n    </tr>\n    <tr>\n      <th>30122</th>\n      <td>zurck</td>\n      <td>1</td>\n    </tr>\n  </tbody>\n</table>\n<p>30123 rows × 2 columns</p>\n</div>"
     },
     "execution_count": 76,
     "metadata": {},
     "output_type": "execute_result"
    }
   ],
   "source": [
    "# The .size() method functions similary, but differs slightly in output format\n",
    "# .size() also counts null values, which .count() does not\n",
    "bronte_books_df.groupby(['word']).size().sort_values(ascending=False).reset_index(name='count')"
   ]
  },
  {
   "cell_type": "code",
   "execution_count": 77,
   "metadata": {
    "colab": {
     "base_uri": "https://localhost:8080/",
     "height": 423
    },
    "id": "A3QPbR4ukBoS",
    "outputId": "6c3ff802-f889-4a4e-f9a1-8687032112ec",
    "pycharm": {
     "name": "#%%\n"
    }
   },
   "outputs": [
    {
     "data": {
      "text/plain": "        word        book  count\n0        the     Vilette   7894\n1        the   Jane Eyre   7501\n2          I   Jane Eyre   7009\n3        and   Jane Eyre   6328\n4        and     Vilette   6163\n...      ...         ...    ...\n54094   gild     Vilette      1\n54095   gilt   Jane Eyre      1\n54096   gilt     Vilette      1\n54097    gin  Agnes Grey      1\n54098  zurck     Vilette      1\n\n[54099 rows x 3 columns]",
      "text/html": "<div>\n<style scoped>\n    .dataframe tbody tr th:only-of-type {\n        vertical-align: middle;\n    }\n\n    .dataframe tbody tr th {\n        vertical-align: top;\n    }\n\n    .dataframe thead th {\n        text-align: right;\n    }\n</style>\n<table border=\"1\" class=\"dataframe\">\n  <thead>\n    <tr style=\"text-align: right;\">\n      <th></th>\n      <th>word</th>\n      <th>book</th>\n      <th>count</th>\n    </tr>\n  </thead>\n  <tbody>\n    <tr>\n      <th>0</th>\n      <td>the</td>\n      <td>Vilette</td>\n      <td>7894</td>\n    </tr>\n    <tr>\n      <th>1</th>\n      <td>the</td>\n      <td>Jane Eyre</td>\n      <td>7501</td>\n    </tr>\n    <tr>\n      <th>2</th>\n      <td>I</td>\n      <td>Jane Eyre</td>\n      <td>7009</td>\n    </tr>\n    <tr>\n      <th>3</th>\n      <td>and</td>\n      <td>Jane Eyre</td>\n      <td>6328</td>\n    </tr>\n    <tr>\n      <th>4</th>\n      <td>and</td>\n      <td>Vilette</td>\n      <td>6163</td>\n    </tr>\n    <tr>\n      <th>...</th>\n      <td>...</td>\n      <td>...</td>\n      <td>...</td>\n    </tr>\n    <tr>\n      <th>54094</th>\n      <td>gild</td>\n      <td>Vilette</td>\n      <td>1</td>\n    </tr>\n    <tr>\n      <th>54095</th>\n      <td>gilt</td>\n      <td>Jane Eyre</td>\n      <td>1</td>\n    </tr>\n    <tr>\n      <th>54096</th>\n      <td>gilt</td>\n      <td>Vilette</td>\n      <td>1</td>\n    </tr>\n    <tr>\n      <th>54097</th>\n      <td>gin</td>\n      <td>Agnes Grey</td>\n      <td>1</td>\n    </tr>\n    <tr>\n      <th>54098</th>\n      <td>zurck</td>\n      <td>Vilette</td>\n      <td>1</td>\n    </tr>\n  </tbody>\n</table>\n<p>54099 rows × 3 columns</p>\n</div>"
     },
     "execution_count": 77,
     "metadata": {},
     "output_type": "execute_result"
    }
   ],
   "source": [
    "# Groupby allows grouping based on multiple columns\n",
    "bronte_books_df.groupby(['word', 'book']).size().sort_values(ascending=False).reset_index(name='count')"
   ]
  },
  {
   "cell_type": "markdown",
   "metadata": {
    "id": "V2Aa71UJayPr",
    "pycharm": {
     "name": "#%% md\n"
    }
   },
   "source": [
    "### Aggregate\n",
    "One useful and elegant way of counting/aggregating data in pandas is by using the .agg() method.\n"
   ]
  },
  {
   "cell_type": "code",
   "execution_count": 78,
   "metadata": {
    "colab": {
     "base_uri": "https://localhost:8080/",
     "height": 455
    },
    "id": "jE9R3Se6LlMA",
    "outputId": "8ad06fbb-0998-437a-f6a0-cfd259c7b9e9",
    "pycharm": {
     "name": "#%%\n"
    }
   },
   "outputs": [
    {
     "data": {
      "text/plain": "              book  word\nword                    \n1        Jane Eyre     9\n10         Vilette     1\n12         Vilette     1\n1260     Jane Eyre     1\n13th     Jane Eyre     1\n...            ...   ...\nzigzag   Jane Eyre     2\nzigzags    Vilette     1\nzle        Vilette     1\nzone       Vilette     2\nzurck      Vilette     1\n\n[30123 rows x 2 columns]",
      "text/html": "<div>\n<style scoped>\n    .dataframe tbody tr th:only-of-type {\n        vertical-align: middle;\n    }\n\n    .dataframe tbody tr th {\n        vertical-align: top;\n    }\n\n    .dataframe thead th {\n        text-align: right;\n    }\n</style>\n<table border=\"1\" class=\"dataframe\">\n  <thead>\n    <tr style=\"text-align: right;\">\n      <th></th>\n      <th>book</th>\n      <th>word</th>\n    </tr>\n    <tr>\n      <th>word</th>\n      <th></th>\n      <th></th>\n    </tr>\n  </thead>\n  <tbody>\n    <tr>\n      <th>1</th>\n      <td>Jane Eyre</td>\n      <td>9</td>\n    </tr>\n    <tr>\n      <th>10</th>\n      <td>Vilette</td>\n      <td>1</td>\n    </tr>\n    <tr>\n      <th>12</th>\n      <td>Vilette</td>\n      <td>1</td>\n    </tr>\n    <tr>\n      <th>1260</th>\n      <td>Jane Eyre</td>\n      <td>1</td>\n    </tr>\n    <tr>\n      <th>13th</th>\n      <td>Jane Eyre</td>\n      <td>1</td>\n    </tr>\n    <tr>\n      <th>...</th>\n      <td>...</td>\n      <td>...</td>\n    </tr>\n    <tr>\n      <th>zigzag</th>\n      <td>Jane Eyre</td>\n      <td>2</td>\n    </tr>\n    <tr>\n      <th>zigzags</th>\n      <td>Vilette</td>\n      <td>1</td>\n    </tr>\n    <tr>\n      <th>zle</th>\n      <td>Vilette</td>\n      <td>1</td>\n    </tr>\n    <tr>\n      <th>zone</th>\n      <td>Vilette</td>\n      <td>2</td>\n    </tr>\n    <tr>\n      <th>zurck</th>\n      <td>Vilette</td>\n      <td>1</td>\n    </tr>\n  </tbody>\n</table>\n<p>30123 rows × 2 columns</p>\n</div>"
     },
     "execution_count": 78,
     "metadata": {},
     "output_type": "execute_result"
    }
   ],
   "source": [
    "# We group our data by words, then we aggregate and can decide what information we want to display for each column\n",
    "\n",
    "# setting 'first' for the book column means that in the new dataframe we will display the first book on which each word occurs (in the book column)\n",
    "# setting 'count' for the word column means that in the new dataframe we will display the count of given word (in the word column)\n",
    "count_df = bronte_books_df.groupby('word').agg({'book': 'first', 'word': 'count'}) \n",
    "count_df"
   ]
  },
  {
   "cell_type": "code",
   "execution_count": 79,
   "metadata": {
    "colab": {
     "base_uri": "https://localhost:8080/",
     "height": 455
    },
    "id": "B3GEP2xMcCr7",
    "outputId": "7b32a8c1-103b-4f56-c38d-de391bb06408",
    "pycharm": {
     "name": "#%%\n"
    }
   },
   "outputs": [
    {
     "data": {
      "text/plain": "                  book  count\nword                         \nthe          Jane Eyre  22423\nand          Jane Eyre  19617\nI            Jane Eyre  18439\nto           Jane Eyre  15784\nof           Jane Eyre  13370\n...                ...    ...\nglovessuch     Vilette      1\ngloveless   Agnes Grey      1\nglossily     Jane Eyre      1\nglossiest    Jane Eyre      1\nzurck          Vilette      1\n\n[30123 rows x 2 columns]",
      "text/html": "<div>\n<style scoped>\n    .dataframe tbody tr th:only-of-type {\n        vertical-align: middle;\n    }\n\n    .dataframe tbody tr th {\n        vertical-align: top;\n    }\n\n    .dataframe thead th {\n        text-align: right;\n    }\n</style>\n<table border=\"1\" class=\"dataframe\">\n  <thead>\n    <tr style=\"text-align: right;\">\n      <th></th>\n      <th>book</th>\n      <th>count</th>\n    </tr>\n    <tr>\n      <th>word</th>\n      <th></th>\n      <th></th>\n    </tr>\n  </thead>\n  <tbody>\n    <tr>\n      <th>the</th>\n      <td>Jane Eyre</td>\n      <td>22423</td>\n    </tr>\n    <tr>\n      <th>and</th>\n      <td>Jane Eyre</td>\n      <td>19617</td>\n    </tr>\n    <tr>\n      <th>I</th>\n      <td>Jane Eyre</td>\n      <td>18439</td>\n    </tr>\n    <tr>\n      <th>to</th>\n      <td>Jane Eyre</td>\n      <td>15784</td>\n    </tr>\n    <tr>\n      <th>of</th>\n      <td>Jane Eyre</td>\n      <td>13370</td>\n    </tr>\n    <tr>\n      <th>...</th>\n      <td>...</td>\n      <td>...</td>\n    </tr>\n    <tr>\n      <th>glovessuch</th>\n      <td>Vilette</td>\n      <td>1</td>\n    </tr>\n    <tr>\n      <th>gloveless</th>\n      <td>Agnes Grey</td>\n      <td>1</td>\n    </tr>\n    <tr>\n      <th>glossily</th>\n      <td>Jane Eyre</td>\n      <td>1</td>\n    </tr>\n    <tr>\n      <th>glossiest</th>\n      <td>Jane Eyre</td>\n      <td>1</td>\n    </tr>\n    <tr>\n      <th>zurck</th>\n      <td>Vilette</td>\n      <td>1</td>\n    </tr>\n  </tbody>\n</table>\n<p>30123 rows × 2 columns</p>\n</div>"
     },
     "execution_count": 79,
     "metadata": {},
     "output_type": "execute_result"
    }
   ],
   "source": [
    "# Because we used groupby, the 'word' keyword has become both an index and a column name\n",
    "# To get rid of any naming problems down the line, we will rename the column name 'word' to 'count'\n",
    "count_df = count_df.rename(columns={'word': 'count'})\n",
    "\n",
    "# Sorting values based on count column\n",
    "count_df.sort_values('count', ascending=False)"
   ]
  },
  {
   "cell_type": "markdown",
   "metadata": {
    "id": "L0wfHaTCrRm3",
    "pycharm": {
     "name": "#%% md\n"
    }
   },
   "source": [
    "### Merging Dataframes\n",
    "\n",
    "What we want next is to have a dataframe in which we know how many times each word appears per book and how many times it appears in all of the books.\n",
    "\n",
    "It is sometimes very useful to merge together two dataframes and this is what we're going to do to get our desired dataframe."
   ]
  },
  {
   "cell_type": "code",
   "execution_count": 80,
   "metadata": {
    "colab": {
     "base_uri": "https://localhost:8080/",
     "height": 423
    },
    "id": "_dVwhq0KltWI",
    "outputId": "f5c8a434-1aae-4fb7-9c04-2660d14d9553",
    "pycharm": {
     "name": "#%%\n"
    }
   },
   "outputs": [
    {
     "data": {
      "text/plain": "        word        book  count\n0        the     Vilette   7894\n1        the   Jane Eyre   7501\n2          I   Jane Eyre   7009\n3        and   Jane Eyre   6328\n4        and     Vilette   6163\n...      ...         ...    ...\n54094   gild     Vilette      1\n54095   gilt   Jane Eyre      1\n54096   gilt     Vilette      1\n54097    gin  Agnes Grey      1\n54098  zurck     Vilette      1\n\n[54099 rows x 3 columns]",
      "text/html": "<div>\n<style scoped>\n    .dataframe tbody tr th:only-of-type {\n        vertical-align: middle;\n    }\n\n    .dataframe tbody tr th {\n        vertical-align: top;\n    }\n\n    .dataframe thead th {\n        text-align: right;\n    }\n</style>\n<table border=\"1\" class=\"dataframe\">\n  <thead>\n    <tr style=\"text-align: right;\">\n      <th></th>\n      <th>word</th>\n      <th>book</th>\n      <th>count</th>\n    </tr>\n  </thead>\n  <tbody>\n    <tr>\n      <th>0</th>\n      <td>the</td>\n      <td>Vilette</td>\n      <td>7894</td>\n    </tr>\n    <tr>\n      <th>1</th>\n      <td>the</td>\n      <td>Jane Eyre</td>\n      <td>7501</td>\n    </tr>\n    <tr>\n      <th>2</th>\n      <td>I</td>\n      <td>Jane Eyre</td>\n      <td>7009</td>\n    </tr>\n    <tr>\n      <th>3</th>\n      <td>and</td>\n      <td>Jane Eyre</td>\n      <td>6328</td>\n    </tr>\n    <tr>\n      <th>4</th>\n      <td>and</td>\n      <td>Vilette</td>\n      <td>6163</td>\n    </tr>\n    <tr>\n      <th>...</th>\n      <td>...</td>\n      <td>...</td>\n      <td>...</td>\n    </tr>\n    <tr>\n      <th>54094</th>\n      <td>gild</td>\n      <td>Vilette</td>\n      <td>1</td>\n    </tr>\n    <tr>\n      <th>54095</th>\n      <td>gilt</td>\n      <td>Jane Eyre</td>\n      <td>1</td>\n    </tr>\n    <tr>\n      <th>54096</th>\n      <td>gilt</td>\n      <td>Vilette</td>\n      <td>1</td>\n    </tr>\n    <tr>\n      <th>54097</th>\n      <td>gin</td>\n      <td>Agnes Grey</td>\n      <td>1</td>\n    </tr>\n    <tr>\n      <th>54098</th>\n      <td>zurck</td>\n      <td>Vilette</td>\n      <td>1</td>\n    </tr>\n  </tbody>\n</table>\n<p>54099 rows × 3 columns</p>\n</div>"
     },
     "execution_count": 80,
     "metadata": {},
     "output_type": "execute_result"
    }
   ],
   "source": [
    "count_df_1 = bronte_books_df.groupby(['word', 'book']).size().sort_values(ascending=False).reset_index(name='count') # How many appearances each word has in each book\n",
    "count_df_1"
   ]
  },
  {
   "cell_type": "code",
   "execution_count": 81,
   "metadata": {
    "colab": {
     "base_uri": "https://localhost:8080/",
     "height": 174
    },
    "id": "rTbcz-IQqG9i",
    "outputId": "0b228640-c610-4816-9c49-054cf1b6aed7",
    "pycharm": {
     "name": "#%%\n"
    }
   },
   "outputs": [
    {
     "data": {
      "text/plain": "                book   count\n0            Vilette  199315\n1          Jane Eyre  192766\n2  Wuthering Heights  121112\n3         Agnes Grey   72008",
      "text/html": "<div>\n<style scoped>\n    .dataframe tbody tr th:only-of-type {\n        vertical-align: middle;\n    }\n\n    .dataframe tbody tr th {\n        vertical-align: top;\n    }\n\n    .dataframe thead th {\n        text-align: right;\n    }\n</style>\n<table border=\"1\" class=\"dataframe\">\n  <thead>\n    <tr style=\"text-align: right;\">\n      <th></th>\n      <th>book</th>\n      <th>count</th>\n    </tr>\n  </thead>\n  <tbody>\n    <tr>\n      <th>0</th>\n      <td>Vilette</td>\n      <td>199315</td>\n    </tr>\n    <tr>\n      <th>1</th>\n      <td>Jane Eyre</td>\n      <td>192766</td>\n    </tr>\n    <tr>\n      <th>2</th>\n      <td>Wuthering Heights</td>\n      <td>121112</td>\n    </tr>\n    <tr>\n      <th>3</th>\n      <td>Agnes Grey</td>\n      <td>72008</td>\n    </tr>\n  </tbody>\n</table>\n</div>"
     },
     "execution_count": 81,
     "metadata": {},
     "output_type": "execute_result"
    }
   ],
   "source": [
    "count_df_2 = bronte_books_df.groupby(['book']).size().sort_values(ascending=False).reset_index(name='count') # How many words each book has\n",
    "count_df_2"
   ]
  },
  {
   "cell_type": "code",
   "execution_count": 82,
   "metadata": {
    "colab": {
     "base_uri": "https://localhost:8080/",
     "height": 363
    },
    "id": "IjwrrW4DqNvc",
    "outputId": "baa793e5-894f-4c29-f3f8-b11710aa0715",
    "pycharm": {
     "name": "#%%\n"
    }
   },
   "outputs": [
    {
     "data": {
      "text/plain": "  word     book  count_x  count_y\n0  the  Vilette     7894   199315\n1  and  Vilette     6163   199315\n2    I  Vilette     5762   199315\n3   of  Vilette     4924   199315\n4   to  Vilette     4732   199315\n5    a  Vilette     4406   199315\n6   in  Vilette     2980   199315\n7  was  Vilette     2836   199315\n8  her  Vilette     2071   199315\n9   it  Vilette     1905   199315",
      "text/html": "<div>\n<style scoped>\n    .dataframe tbody tr th:only-of-type {\n        vertical-align: middle;\n    }\n\n    .dataframe tbody tr th {\n        vertical-align: top;\n    }\n\n    .dataframe thead th {\n        text-align: right;\n    }\n</style>\n<table border=\"1\" class=\"dataframe\">\n  <thead>\n    <tr style=\"text-align: right;\">\n      <th></th>\n      <th>word</th>\n      <th>book</th>\n      <th>count_x</th>\n      <th>count_y</th>\n    </tr>\n  </thead>\n  <tbody>\n    <tr>\n      <th>0</th>\n      <td>the</td>\n      <td>Vilette</td>\n      <td>7894</td>\n      <td>199315</td>\n    </tr>\n    <tr>\n      <th>1</th>\n      <td>and</td>\n      <td>Vilette</td>\n      <td>6163</td>\n      <td>199315</td>\n    </tr>\n    <tr>\n      <th>2</th>\n      <td>I</td>\n      <td>Vilette</td>\n      <td>5762</td>\n      <td>199315</td>\n    </tr>\n    <tr>\n      <th>3</th>\n      <td>of</td>\n      <td>Vilette</td>\n      <td>4924</td>\n      <td>199315</td>\n    </tr>\n    <tr>\n      <th>4</th>\n      <td>to</td>\n      <td>Vilette</td>\n      <td>4732</td>\n      <td>199315</td>\n    </tr>\n    <tr>\n      <th>5</th>\n      <td>a</td>\n      <td>Vilette</td>\n      <td>4406</td>\n      <td>199315</td>\n    </tr>\n    <tr>\n      <th>6</th>\n      <td>in</td>\n      <td>Vilette</td>\n      <td>2980</td>\n      <td>199315</td>\n    </tr>\n    <tr>\n      <th>7</th>\n      <td>was</td>\n      <td>Vilette</td>\n      <td>2836</td>\n      <td>199315</td>\n    </tr>\n    <tr>\n      <th>8</th>\n      <td>her</td>\n      <td>Vilette</td>\n      <td>2071</td>\n      <td>199315</td>\n    </tr>\n    <tr>\n      <th>9</th>\n      <td>it</td>\n      <td>Vilette</td>\n      <td>1905</td>\n      <td>199315</td>\n    </tr>\n  </tbody>\n</table>\n</div>"
     },
     "execution_count": 82,
     "metadata": {},
     "output_type": "execute_result"
    }
   ],
   "source": [
    "book_words = count_df_1.merge(count_df_2, on='book')\n",
    "book_words.head(10)"
   ]
  },
  {
   "cell_type": "code",
   "execution_count": 83,
   "metadata": {
    "colab": {
     "base_uri": "https://localhost:8080/",
     "height": 363
    },
    "id": "6wTzVq-U160s",
    "outputId": "8d0ca662-0f30-43a0-f066-5aa17dc1960e",
    "pycharm": {
     "name": "#%%\n"
    }
   },
   "outputs": [
    {
     "data": {
      "text/plain": "  word     book  word_appearances_in_book  book_total_word_count\n0  the  Vilette                      7894                 199315\n1  and  Vilette                      6163                 199315\n2    I  Vilette                      5762                 199315\n3   of  Vilette                      4924                 199315\n4   to  Vilette                      4732                 199315\n5    a  Vilette                      4406                 199315\n6   in  Vilette                      2980                 199315\n7  was  Vilette                      2836                 199315\n8  her  Vilette                      2071                 199315\n9   it  Vilette                      1905                 199315",
      "text/html": "<div>\n<style scoped>\n    .dataframe tbody tr th:only-of-type {\n        vertical-align: middle;\n    }\n\n    .dataframe tbody tr th {\n        vertical-align: top;\n    }\n\n    .dataframe thead th {\n        text-align: right;\n    }\n</style>\n<table border=\"1\" class=\"dataframe\">\n  <thead>\n    <tr style=\"text-align: right;\">\n      <th></th>\n      <th>word</th>\n      <th>book</th>\n      <th>word_appearances_in_book</th>\n      <th>book_total_word_count</th>\n    </tr>\n  </thead>\n  <tbody>\n    <tr>\n      <th>0</th>\n      <td>the</td>\n      <td>Vilette</td>\n      <td>7894</td>\n      <td>199315</td>\n    </tr>\n    <tr>\n      <th>1</th>\n      <td>and</td>\n      <td>Vilette</td>\n      <td>6163</td>\n      <td>199315</td>\n    </tr>\n    <tr>\n      <th>2</th>\n      <td>I</td>\n      <td>Vilette</td>\n      <td>5762</td>\n      <td>199315</td>\n    </tr>\n    <tr>\n      <th>3</th>\n      <td>of</td>\n      <td>Vilette</td>\n      <td>4924</td>\n      <td>199315</td>\n    </tr>\n    <tr>\n      <th>4</th>\n      <td>to</td>\n      <td>Vilette</td>\n      <td>4732</td>\n      <td>199315</td>\n    </tr>\n    <tr>\n      <th>5</th>\n      <td>a</td>\n      <td>Vilette</td>\n      <td>4406</td>\n      <td>199315</td>\n    </tr>\n    <tr>\n      <th>6</th>\n      <td>in</td>\n      <td>Vilette</td>\n      <td>2980</td>\n      <td>199315</td>\n    </tr>\n    <tr>\n      <th>7</th>\n      <td>was</td>\n      <td>Vilette</td>\n      <td>2836</td>\n      <td>199315</td>\n    </tr>\n    <tr>\n      <th>8</th>\n      <td>her</td>\n      <td>Vilette</td>\n      <td>2071</td>\n      <td>199315</td>\n    </tr>\n    <tr>\n      <th>9</th>\n      <td>it</td>\n      <td>Vilette</td>\n      <td>1905</td>\n      <td>199315</td>\n    </tr>\n  </tbody>\n</table>\n</div>"
     },
     "execution_count": 83,
     "metadata": {},
     "output_type": "execute_result"
    }
   ],
   "source": [
    "book_words = book_words.rename(columns={'count_x': 'word_appearances_in_book', 'count_y': 'book_total_word_count'}) # Give more meaningful names\n",
    "book_words.head(10)"
   ]
  },
  {
   "cell_type": "markdown",
   "metadata": {
    "id": "6W1cADaX5HxQ",
    "pycharm": {
     "name": "#%% md\n"
    }
   },
   "source": [
    "### Exercise 1 \n",
    "\n",
    "1. Add a **tf** (term frequency) column to your dataframe.\n",
    "2. Add a **rank** column to your dataframe.\n",
    "3. Draw the rank vs term-frequency plot by uncommenting the code below \n",
    "\n",
    "Term frequency says how frequently a given word appears in a book. The formula for calculating it is \n",
    "    \n",
    "    term_frequency = word_appearances_in_book / book_total_word_count\n",
    "\n",
    "E.g. If a word appears 30 times in a book with 1000 words, then the term frequency of that word will be 0.03. (or 3%).\n",
    "\n",
    "The rank of a word will tell you where your word places itself in the frequency rankings **of your book**.\n",
    "\n",
    "i.e. The most common word in your book will have rank 1.\n",
    "E.g. If the entire text of your book is: \"he ate chips, ate pudding and he ate spinach\", then you would have:\n",
    "\n",
    "    ate - rank 1 (count = 3)\n",
    "    he - rank 2 (count = 2)\n",
    "    chips - rank 3 (count = 1)\n",
    "    pudding - rank 3 (count = 1)\n",
    "    and - rank 3 (count = 1)\n",
    "    spinach - rank 3 (count = 1)\n",
    "\n",
    "\n",
    "Hint: you can use the pandas .rank(method='dense', ascending=False) method for obtaining your word rank. "
   ]
  },
  {
   "cell_type": "code",
   "execution_count": 84,
   "metadata": {
    "id": "gDjaL0KC1KhM",
    "pycharm": {
     "name": "#%%\n"
    }
   },
   "outputs": [
    {
     "data": {
      "text/plain": "                word        book  word_appearances_in_book  \\\n0                the     Vilette                      7894   \n1                and     Vilette                      6163   \n2                  I     Vilette                      5762   \n3                 of     Vilette                      4924   \n4                 to     Vilette                      4732   \n...              ...         ...                       ...   \n54094          ghost  Agnes Grey                         1   \n54095  gesticulating  Agnes Grey                         1   \n54096         girded  Agnes Grey                         1   \n54097          gifts  Agnes Grey                         1   \n54098            gin  Agnes Grey                         1   \n\n       book_total_word_count        tf   rank  \n0                     199315  0.039606    1.0  \n1                     199315  0.030921    2.0  \n2                     199315  0.028909    3.0  \n3                     199315  0.024705    4.0  \n4                     199315  0.023741    5.0  \n...                      ...       ...    ...  \n54094                  72008  0.000014  164.0  \n54095                  72008  0.000014  164.0  \n54096                  72008  0.000014  164.0  \n54097                  72008  0.000014  164.0  \n54098                  72008  0.000014  164.0  \n\n[54099 rows x 6 columns]",
      "text/html": "<div>\n<style scoped>\n    .dataframe tbody tr th:only-of-type {\n        vertical-align: middle;\n    }\n\n    .dataframe tbody tr th {\n        vertical-align: top;\n    }\n\n    .dataframe thead th {\n        text-align: right;\n    }\n</style>\n<table border=\"1\" class=\"dataframe\">\n  <thead>\n    <tr style=\"text-align: right;\">\n      <th></th>\n      <th>word</th>\n      <th>book</th>\n      <th>word_appearances_in_book</th>\n      <th>book_total_word_count</th>\n      <th>tf</th>\n      <th>rank</th>\n    </tr>\n  </thead>\n  <tbody>\n    <tr>\n      <th>0</th>\n      <td>the</td>\n      <td>Vilette</td>\n      <td>7894</td>\n      <td>199315</td>\n      <td>0.039606</td>\n      <td>1.0</td>\n    </tr>\n    <tr>\n      <th>1</th>\n      <td>and</td>\n      <td>Vilette</td>\n      <td>6163</td>\n      <td>199315</td>\n      <td>0.030921</td>\n      <td>2.0</td>\n    </tr>\n    <tr>\n      <th>2</th>\n      <td>I</td>\n      <td>Vilette</td>\n      <td>5762</td>\n      <td>199315</td>\n      <td>0.028909</td>\n      <td>3.0</td>\n    </tr>\n    <tr>\n      <th>3</th>\n      <td>of</td>\n      <td>Vilette</td>\n      <td>4924</td>\n      <td>199315</td>\n      <td>0.024705</td>\n      <td>4.0</td>\n    </tr>\n    <tr>\n      <th>4</th>\n      <td>to</td>\n      <td>Vilette</td>\n      <td>4732</td>\n      <td>199315</td>\n      <td>0.023741</td>\n      <td>5.0</td>\n    </tr>\n    <tr>\n      <th>...</th>\n      <td>...</td>\n      <td>...</td>\n      <td>...</td>\n      <td>...</td>\n      <td>...</td>\n      <td>...</td>\n    </tr>\n    <tr>\n      <th>54094</th>\n      <td>ghost</td>\n      <td>Agnes Grey</td>\n      <td>1</td>\n      <td>72008</td>\n      <td>0.000014</td>\n      <td>164.0</td>\n    </tr>\n    <tr>\n      <th>54095</th>\n      <td>gesticulating</td>\n      <td>Agnes Grey</td>\n      <td>1</td>\n      <td>72008</td>\n      <td>0.000014</td>\n      <td>164.0</td>\n    </tr>\n    <tr>\n      <th>54096</th>\n      <td>girded</td>\n      <td>Agnes Grey</td>\n      <td>1</td>\n      <td>72008</td>\n      <td>0.000014</td>\n      <td>164.0</td>\n    </tr>\n    <tr>\n      <th>54097</th>\n      <td>gifts</td>\n      <td>Agnes Grey</td>\n      <td>1</td>\n      <td>72008</td>\n      <td>0.000014</td>\n      <td>164.0</td>\n    </tr>\n    <tr>\n      <th>54098</th>\n      <td>gin</td>\n      <td>Agnes Grey</td>\n      <td>1</td>\n      <td>72008</td>\n      <td>0.000014</td>\n      <td>164.0</td>\n    </tr>\n  </tbody>\n</table>\n<p>54099 rows × 6 columns</p>\n</div>"
     },
     "execution_count": 84,
     "metadata": {},
     "output_type": "execute_result"
    }
   ],
   "source": [
    "# Write your code below\n",
    "book_words['tf'] = book_words['word_appearances_in_book'] / book_words['book_total_word_count']\n",
    "book_words['rank'] = book_words.groupby('book')['word_appearances_in_book'].rank(method='dense', ascending=False)\n",
    "book_words"
   ]
  },
  {
   "cell_type": "code",
   "execution_count": 85,
   "metadata": {
    "id": "6QIikhKYFELm",
    "pycharm": {
     "name": "#%%\n"
    }
   },
   "outputs": [
    {
     "data": {
      "text/plain": "<matplotlib.legend.Legend at 0x1274f08ab70>"
     },
     "execution_count": 85,
     "metadata": {},
     "output_type": "execute_result"
    },
    {
     "data": {
      "text/plain": "<Figure size 640x480 with 1 Axes>",
      "image/png": "[encoded data removed]"
     },
     "metadata": {},
     "output_type": "display_data"
    }
   ],
   "source": [
    "# Write your code below\n",
    "\n",
    "#Uncomment below for Ex. 1.3.\n",
    "import matplotlib.pyplot as plt\n",
    "\n",
    "# plot the data\n",
    "for book, data in book_words.groupby(\"book\"):\n",
    "    plt.scatter(data[\"rank\"], data[\"tf\"], label=book)\n",
    "\n",
    "# add labels and legend\n",
    "plt.title(\"Term Frequency vs Word Rank\")\n",
    "plt.xlabel(\"Word Rank\")\n",
    "plt.ylabel(\"Term Frequency\")\n",
    "plt.legend()"
   ]
  },
  {
   "cell_type": "markdown",
   "source": [
    "### Excercise 2 - TF-IDF\n",
    "\n",
    "1. Add a new idf column to your dataframe\n",
    "2. Add the final tf-idf column to your dataframe\n",
    "3. Display your dataframe's words in descending order of their tf-idf.\n",
    "\n",
    "Idf or inverse document frequency is computed as **idf = log(N / n)**\n",
    "\n",
    "where **N is the total number of documents (books)** in your dataset and **n is the number of documents containing the word**.\n",
    "\n",
    "Once you have tf and idf, the tf-idf is obtained by simply multiplying the two.\n",
    "\n",
    "Hint: For ex. 2.1 the pandas **transform** function could come in handy."
   ],
   "metadata": {
    "collapsed": false,
    "pycharm": {
     "name": "#%% md\n"
    }
   }
  },
  {
   "cell_type": "code",
   "execution_count": 86,
   "outputs": [
    {
     "name": "stdout",
     "output_type": "stream",
     "text": [
      "             word               book  word_appearances_in_book  \\\n",
      "34975  Heathcliff  Wuthering Heights                       413   \n",
      "34983      Linton  Wuthering Heights                       340   \n",
      "18926   Rochester          Jane Eyre                       312   \n",
      "34984   Catherine  Wuthering Heights                       333   \n",
      "35029     Hareton  Wuthering Heights                       164   \n",
      "46063      Murray         Agnes Grey                        82   \n",
      "95             Dr            Vilette                       225   \n",
      "102       Bretton            Vilette                       216   \n",
      "110        Graham            Vilette                       198   \n",
      "46074      Weston         Agnes Grey                        69   \n",
      "\n",
      "       book_total_word_count        tf   rank       idf    tf_idf  \n",
      "34975                 121112  0.003410   33.0  1.386294  0.004727  \n",
      "34983                 121112  0.002807   41.0  1.386294  0.003892  \n",
      "18926                 192766  0.001619   71.0  1.386294  0.002244  \n",
      "34984                 121112  0.002750   42.0  0.693147  0.001906  \n",
      "35029                 121112  0.001354   83.0  1.386294  0.001877  \n",
      "46063                  72008  0.001139   92.0  1.386294  0.001579  \n",
      "95                    199315  0.001129   93.0  1.386294  0.001565  \n",
      "102                   199315  0.001084   97.0  1.386294  0.001502  \n",
      "110                   199315  0.000993  105.0  1.386294  0.001377  \n",
      "46074                  72008  0.000958  100.0  1.386294  0.001328  \n"
     ]
    }
   ],
   "source": [
    "# Write your code below\n",
    "import numpy as np\n",
    "\n",
    "total_books = len(book_words['book'].unique())  # Total number of documents (books)\n",
    "book_words['idf'] = np.log(total_books / book_words.groupby('word')['book'].transform('nunique'))\n",
    "\n",
    "book_words['tf_idf'] = book_words['tf'] * book_words['idf']\n",
    "\n",
    "sorted_df = book_words.sort_values(by='tf_idf', ascending=False)\n",
    "print(sorted_df.head(10))"
   ],
   "metadata": {
    "collapsed": false,
    "pycharm": {
     "name": "#%%\n"
    }
   }
  },
  {
   "cell_type": "markdown",
   "source": [
    "# Language Models\n",
    "\n",
    "A language model is a statistical model that can be used to estimate the probability of a sequence of words in a language. It is trained on a corpus of text data, and learns to predict the likelihood of observing a given sequence of words based on the frequency and context of those words in the training data.\n",
    "\n",
    "Language models can be used for a variety of natural language processing tasks, such as text generation, machine translation, speech recognition, and more."
   ],
   "metadata": {
    "collapsed": false,
    "pycharm": {
     "name": "#%% md\n"
    }
   }
  },
  {
   "cell_type": "code",
   "execution_count": 87,
   "outputs": [
    {
     "name": "stderr",
     "output_type": "stream",
     "text": [
      "[nltk_data] Downloading package brown to\n",
      "[nltk_data]     C:\\Users\\Lucas\\AppData\\Roaming\\nltk_data...\n",
      "[nltk_data]   Package brown is already up-to-date!\n"
     ]
    }
   ],
   "source": [
    "import nltk\n",
    "from nltk.corpus import brown\n",
    "from nltk import FreqDist\n",
    "nltk.download('brown')\n",
    "\n",
    "# load the Brown corpus\n",
    "corpus = brown.words()"
   ],
   "metadata": {
    "collapsed": false,
    "pycharm": {
     "name": "#%%\n"
    }
   }
  },
  {
   "cell_type": "markdown",
   "source": [
    "In this example, we're using the Brown corpus from the nltk library, which is a collection of text samples from a wide range of genres, including news, fiction, and academic writing."
   ],
   "metadata": {
    "collapsed": false,
    "pycharm": {
     "name": "#%% md\n"
    }
   }
  },
  {
   "cell_type": "code",
   "execution_count": 88,
   "outputs": [
    {
     "name": "stdout",
     "output_type": "stream",
     "text": [
      "['voters', '.', 'Despite', 'the', 'warning', ',', 'there', 'was', 'a', 'unanimous']\n"
     ]
    }
   ],
   "source": [
    "print(corpus[1100:1110]) # Print a sample of 10 words from the corpus"
   ],
   "metadata": {
    "collapsed": false,
    "pycharm": {
     "name": "#%%\n"
    }
   }
  },
  {
   "cell_type": "code",
   "execution_count": 89,
   "outputs": [
    {
     "name": "stdout",
     "output_type": "stream",
     "text": [
      "0.0003970058353829513\n"
     ]
    }
   ],
   "source": [
    "# create a frequency distribution of the words in the corpus\n",
    "freq_dist = FreqDist(corpus)\n",
    "\n",
    "# calculate the total number of words in the corpus\n",
    "total_words = len(corpus)\n",
    "\n",
    "# calculate the probability of each word in the corpus\n",
    "word_probs = {word: freq_dist[word] / total_words for word in freq_dist.keys()}\n",
    "print(word_probs['high']) # Probability of the word 'high' to appear"
   ],
   "metadata": {
    "collapsed": false,
    "pycharm": {
     "name": "#%%\n"
    }
   }
  },
  {
   "cell_type": "markdown",
   "metadata": {
    "id": "R44oIEqZQ7ZH",
    "pycharm": {
     "name": "#%% md\n"
    }
   },
   "source": [
    "### Naive sentence generation\n",
    "\n",
    "We're going to create a naive function that generates sentences using our language model."
   ]
  },
  {
   "cell_type": "code",
   "execution_count": 90,
   "metadata": {
    "id": "2Jvyrj5xP57X",
    "pycharm": {
     "name": "#%%\n"
    }
   },
   "outputs": [],
   "source": [
    "# generate a sentence using the language model\n",
    "import random\n",
    "\n",
    "def generate_sentence(word_length = 10):\n",
    "    sentence = []\n",
    "    while len(sentence) < word_length:\n",
    "        word = random.choices(list(word_probs.keys()), list(word_probs.values()))[0]\n",
    "        sentence.append(word)\n",
    "    return \" \".join(sentence)"
   ]
  },
  {
   "cell_type": "code",
   "execution_count": 91,
   "metadata": {
    "colab": {
     "base_uri": "https://localhost:8080/"
    },
    "id": "1Y1WFpEDRI8m",
    "outputId": "90c0bf86-007e-475b-9af9-9739c1867157",
    "pycharm": {
     "name": "#%%\n"
    }
   },
   "outputs": [
    {
     "name": "stdout",
     "output_type": "stream",
     "text": [
      "a we living model It had bunched comment 1959 a\n"
     ]
    }
   ],
   "source": [
    "print(generate_sentence())"
   ]
  },
  {
   "cell_type": "markdown",
   "metadata": {
    "id": "rVKaPlxtTvDK",
    "pycharm": {
     "name": "#%% md\n"
    }
   },
   "source": [
    "The sentences generated are likely not going to sound very good, since the model is extremely naive.\n",
    "\n",
    "All that is happening is that each word in the sentence gets semi-randomly generated with the likelihood of it being chosen depending on its frequency in the Brown corpus."
   ]
  },
  {
   "cell_type": "markdown",
   "metadata": {
    "id": "-5rdLQ64d8Sh",
    "pycharm": {
     "name": "#%% md\n"
    }
   },
   "source": [
    "# N-grams\n",
    "\n",
    "So far we’ve considered words as individual units, and considered the relationship to their frequency of occurrence. However, many interesting text analyses are based on the relationships between words.\n",
    "One such relationship is given by n-grams.\n",
    "\n",
    "N-grams are groups of n consecutive words that appear in a given text corpus.\n",
    "\n",
    "Bigrams are groups of 2 consecutive words (e.g. she went, he ate, car crashed)\n",
    "\n",
    "Trigrams are groups of 3 consecutive words (e.g. she went home, he ate a, the car crashed)."
   ]
  },
  {
   "cell_type": "code",
   "execution_count": 92,
   "metadata": {
    "colab": {
     "base_uri": "https://localhost:8080/"
    },
    "id": "F7ND9o70edTE",
    "outputId": "e63ce95e-b2b0-48a3-9b42-6aeabbd480fa",
    "pycharm": {
     "name": "#%%\n"
    }
   },
   "outputs": [
    {
     "data": {
      "text/plain": "[('The', 'Fulton'),\n ('Fulton', 'County'),\n ('County', 'Grand'),\n ('Grand', 'Jury'),\n ('Jury', 'said'),\n ('said', 'Friday'),\n ('Friday', 'an'),\n ('an', 'investigation'),\n ('investigation', 'of'),\n ('of', \"Atlanta's\")]"
     },
     "execution_count": 92,
     "metadata": {},
     "output_type": "execute_result"
    }
   ],
   "source": [
    "# Example of what bigrams look like\n",
    "bigrams = list(nltk.bigrams(corpus))\n",
    "bigrams[:10]"
   ]
  },
  {
   "cell_type": "code",
   "execution_count": 93,
   "metadata": {
    "colab": {
     "base_uri": "https://localhost:8080/"
    },
    "id": "rdNw4vb3epgv",
    "outputId": "d2b39ea6-d856-4a90-c158-1a4aa63e4460",
    "pycharm": {
     "name": "#%%\n"
    }
   },
   "outputs": [
    {
     "data": {
      "text/plain": "[('The', 'Fulton', 'County'),\n ('Fulton', 'County', 'Grand'),\n ('County', 'Grand', 'Jury'),\n ('Grand', 'Jury', 'said'),\n ('Jury', 'said', 'Friday'),\n ('said', 'Friday', 'an'),\n ('Friday', 'an', 'investigation'),\n ('an', 'investigation', 'of'),\n ('investigation', 'of', \"Atlanta's\"),\n ('of', \"Atlanta's\", 'recent')]"
     },
     "execution_count": 93,
     "metadata": {},
     "output_type": "execute_result"
    }
   ],
   "source": [
    "# Example of what trigrams look like\n",
    "trigrams = list(nltk.trigrams(corpus))\n",
    "trigrams[:10]"
   ]
  },
  {
   "cell_type": "markdown",
   "metadata": {
    "id": "xuGGY8x0UUQq",
    "pycharm": {
     "name": "#%% md\n"
    }
   },
   "source": [
    "### Naive next word prediction\n",
    "\n",
    "Knowing that word relations are pretty important in our language, let's create a function that predicts what the next word in a sentence would be using a simple **bigram** language model. "
   ]
  },
  {
   "cell_type": "code",
   "execution_count": 94,
   "metadata": {
    "id": "cD3005yIUgsa",
    "pycharm": {
     "name": "#%%\n"
    }
   },
   "outputs": [],
   "source": [
    "from nltk.corpus import brown\n",
    "import random\n",
    "\n",
    "# get the words from the Brown corpus\n",
    "corpus = brown.words()\n",
    "\n",
    "# create bigrams from the corpus\n",
    "bigrams = list(nltk.bigrams(corpus))\n",
    "\n",
    "# calculate the frequency distribution of the bigrams\n",
    "bigram_freqdist = nltk.FreqDist(bigrams)\n",
    "\n",
    "# calculate the total number of bigrams in the corpus\n",
    "total_bigrams = len(bigrams)\n",
    "\n",
    "# create a function to generate the next word based on the previous word\n",
    "def generate_next_word(sentence):\n",
    "    prev_word = sentence.split()[-1]\n",
    "    possible_words = {}\n",
    "    for bigram in bigram_freqdist:\n",
    "        if bigram[0] == prev_word:\n",
    "            possible_words[bigram[1]] = bigram_freqdist[bigram] / total_bigrams\n",
    "    if possible_words:\n",
    "        return max(possible_words, key=possible_words.get)\n",
    "    else:\n",
    "        return None"
   ]
  },
  {
   "cell_type": "code",
   "execution_count": 95,
   "metadata": {
    "colab": {
     "base_uri": "https://localhost:8080/"
    },
    "id": "tDQ_R-uzWnGT",
    "outputId": "b2749b0e-63de-48a9-af76-f98809079fb6",
    "pycharm": {
     "name": "#%%\n"
    }
   },
   "outputs": [
    {
     "name": "stdout",
     "output_type": "stream",
     "text": [
      "The predicted next word for 'The director' is 'of'\n"
     ]
    }
   ],
   "source": [
    "# predict the next word for a given context\n",
    "context = \"The director\"\n",
    "next_word = generate_next_word(context)\n",
    "print(f\"The predicted next word for '{context}' is '{next_word}'\")"
   ]
  },
  {
   "cell_type": "markdown",
   "metadata": {
    "id": "hTYQq09KcDDi",
    "pycharm": {
     "name": "#%% md\n"
    }
   },
   "source": [
    "### Exercise 3\n",
    "1. Create a function that takes as input the number of words and generates a sentence using the previous bigram language model. You can start with a random first word from the brown corpus and then use generate_next_word(sentence) function to help you. \n",
    "\n",
    "2. Create a function that predicts the next word of a sentence by looking at the previous two words. This means you will create a trigram language model - use the same Brown corpus as before."
   ]
  },
  {
   "cell_type": "code",
   "execution_count": 96,
   "metadata": {
    "id": "22aOcuOp1KhN",
    "pycharm": {
     "name": "#%%\n"
    }
   },
   "outputs": [
    {
     "name": "stdout",
     "output_type": "stream",
     "text": [
      "But the same time , and the same time ,\n",
      "The predicted next word for 'The director' is 'of'\n"
     ]
    }
   ],
   "source": [
    "def generate_sentence_bigram(num_words):\n",
    "    sentence = []\n",
    "    # Start with a random first word from the corpus\n",
    "    first_word = random.choice(corpus)\n",
    "    sentence.append(first_word)\n",
    "    while len(sentence) < num_words:\n",
    "        next_word = generate_next_word(\" \".join(sentence))\n",
    "        if next_word:\n",
    "            sentence.append(next_word)\n",
    "        else:\n",
    "            break\n",
    "    return \" \".join(sentence)\n",
    "\n",
    "corpus = brown.words()\n",
    "\n",
    "# create bigrams from the corpus\n",
    "trigrams = list(nltk.trigrams(corpus))\n",
    "\n",
    "# calculate the frequency distribution of the bigrams\n",
    "trigram_freqdist = nltk.FreqDist(trigrams)\n",
    "\n",
    "# calculate the total number of bigrams in the corpus\n",
    "total_trigrams = len(trigrams)\n",
    "\n",
    "def generate_next_word_trigram(sentence):\n",
    "    words = sentence.split()\n",
    "    prev_word1 = words[-2]\n",
    "    prev_word2 = words[-1]\n",
    "    possible_words = {}\n",
    "    for trigram in trigrams:\n",
    "        if trigram[0] == prev_word1 and trigram[1] == prev_word2:\n",
    "            possible_words[trigram[2]] = trigram_freqdist[trigram] / total_trigrams\n",
    "    if possible_words:\n",
    "        return max(possible_words, key=possible_words.get)\n",
    "    else:\n",
    "        return None\n",
    "\n",
    "# Example of generating a sentence using the bigram language model\n",
    "print(generate_sentence_bigram(10))\n",
    "\n",
    "# Example of predicting the next word using the trigram language model\n",
    "context = \"The director\"\n",
    "next_word = generate_next_word_trigram(context)\n",
    "print(f\"The predicted next word for '{context}' is '{next_word}'\")\n"
   ]
  },
  {
   "cell_type": "markdown",
   "metadata": {
    "id": "fL9S1oRBKDqW",
    "pycharm": {
     "name": "#%% md\n"
    }
   },
   "source": [
    "### N-grams in dataframes\n",
    "\n",
    "Let's get back to our books.\n",
    "We'll create a dataframe containing information about the bigrams in our books corpus.\n"
   ]
  },
  {
   "cell_type": "code",
   "execution_count": 97,
   "metadata": {
    "colab": {
     "base_uri": "https://localhost:8080/",
     "height": 241
    },
    "id": "RH6clIKShSzo",
    "outputId": "be924a20-ff89-45b2-f61e-22908e60e6c6",
    "pycharm": {
     "name": "#%%\n"
    }
   },
   "outputs": [
    {
     "name": "stderr",
     "output_type": "stream",
     "text": [
      "[nltk_data] Downloading package punkt to\n",
      "[nltk_data]     C:\\Users\\Lucas\\AppData\\Roaming\\nltk_data...\n",
      "[nltk_data]   Package punkt is already up-to-date!\n"
     ]
    },
    {
     "data": {
      "text/plain": "      Word 1     Word 2       book\n0        The    Project  Jane Eyre\n1    Project  Gutenberg  Jane Eyre\n2  Gutenberg      eBook  Jane Eyre\n3      eBook         of  Jane Eyre\n4         of       Jane  Jane Eyre",
      "text/html": "<div>\n<style scoped>\n    .dataframe tbody tr th:only-of-type {\n        vertical-align: middle;\n    }\n\n    .dataframe tbody tr th {\n        vertical-align: top;\n    }\n\n    .dataframe thead th {\n        text-align: right;\n    }\n</style>\n<table border=\"1\" class=\"dataframe\">\n  <thead>\n    <tr style=\"text-align: right;\">\n      <th></th>\n      <th>Word 1</th>\n      <th>Word 2</th>\n      <th>book</th>\n    </tr>\n  </thead>\n  <tbody>\n    <tr>\n      <th>0</th>\n      <td>The</td>\n      <td>Project</td>\n      <td>Jane Eyre</td>\n    </tr>\n    <tr>\n      <th>1</th>\n      <td>Project</td>\n      <td>Gutenberg</td>\n      <td>Jane Eyre</td>\n    </tr>\n    <tr>\n      <th>2</th>\n      <td>Gutenberg</td>\n      <td>eBook</td>\n      <td>Jane Eyre</td>\n    </tr>\n    <tr>\n      <th>3</th>\n      <td>eBook</td>\n      <td>of</td>\n      <td>Jane Eyre</td>\n    </tr>\n    <tr>\n      <th>4</th>\n      <td>of</td>\n      <td>Jane</td>\n      <td>Jane Eyre</td>\n    </tr>\n  </tbody>\n</table>\n</div>"
     },
     "execution_count": 97,
     "metadata": {},
     "output_type": "execute_result"
    }
   ],
   "source": [
    "# The simplest way to do this would be to create the dataframe directly from bigrams rather than unigrams (single words)\n",
    "import nltk\n",
    "nltk.download('punkt')\n",
    "\n",
    "bronte1_bigrams = list(nltk.bigrams(nltk.word_tokenize(bronte1)))\n",
    "bronte1_df = pd.DataFrame(bronte1_bigrams, columns=['Word 1', 'Word 2'])\n",
    "\n",
    "bronte2_bigrams = list(nltk.bigrams(nltk.word_tokenize(bronte2)))\n",
    "bronte2_df = pd.DataFrame(bronte2_bigrams, columns=['Word 1', 'Word 2'])\n",
    "\n",
    "bronte3_bigrams = list(nltk.bigrams(nltk.word_tokenize(bronte3)))\n",
    "bronte3_df = pd.DataFrame(bronte3_bigrams, columns=['Word 1', 'Word 2'])\n",
    "\n",
    "bronte4_bigrams = list(nltk.bigrams(nltk.word_tokenize(bronte4)))\n",
    "bronte4_df = pd.DataFrame(bronte4_bigrams, columns=['Word 1', 'Word 2'])\n",
    "\n",
    "\n",
    "# We’ll want to know which content comes from which book\n",
    "bronte1_df = bronte1_df.assign(book = 'Jane Eyre')\n",
    "bronte2_df = bronte2_df.assign(book = 'Wuthering Heights')\n",
    "bronte3_df = bronte3_df.assign(book = 'Vilette')\n",
    "bronte4_df = bronte4_df.assign(book = 'Agnes Grey')\n",
    "\n",
    "# Finally, we concatenate the books into one dataframe\n",
    "books = [bronte1_df, bronte2_df, bronte3_df, bronte4_df]\n",
    "bronte_books_df = pd.concat(books)\n",
    "bronte_books_df.head()"
   ]
  },
  {
   "cell_type": "markdown",
   "metadata": {
    "id": "Bik8sbqukQ1A",
    "pycharm": {
     "name": "#%% md\n"
    }
   },
   "source": [
    "### Exercise 4\n",
    "\n",
    "1. Add a **bigram** column that shows the entire bigrams (\"The Project\" and \"Project Gutenberg\" are examples of this column's values), not just the separate words.\n",
    "2. Clean the dataframe by removing stop words.\n",
    "3. Display the most frequently occuring 10 bigrams."
   ]
  },
  {
   "cell_type": "code",
   "execution_count": 98,
   "metadata": {
    "id": "5ex48ATQLRmV",
    "pycharm": {
     "name": "#%%\n"
    }
   },
   "outputs": [
    {
     "name": "stderr",
     "output_type": "stream",
     "text": [
      "[nltk_data] Downloading package stopwords to\n",
      "[nltk_data]     C:\\Users\\Lucas\\AppData\\Roaming\\nltk_data...\n",
      "[nltk_data]   Package stopwords is already up-to-date!\n"
     ]
    },
    {
     "name": "stdout",
     "output_type": "stream",
     "text": [
      "Bigram\n",
      "project gutenberg    292\n",
      "mr rochester         281\n",
      "dr john              128\n",
      "st john              120\n",
      "mr heathcliff        118\n",
      "mrs fairfax          107\n",
      "madame beck          103\n",
      "mrs bretton           92\n",
      "young lady            75\n",
      "miss grey             71\n",
      "Name: count, dtype: int64\n"
     ]
    },
    {
     "name": "stderr",
     "output_type": "stream",
     "text": [
      "C:\\Users\\Lucas\\AppData\\Local\\Temp\\ipykernel_11240\\3887470444.py:11: SettingWithCopyWarning: \n",
      "A value is trying to be set on a copy of a slice from a DataFrame.\n",
      "Try using .loc[row_indexer,col_indexer] = value instead\n",
      "\n",
      "See the caveats in the documentation: https://pandas.pydata.org/pandas-docs/stable/user_guide/indexing.html#returning-a-view-versus-a-copy\n",
      "  bronte_books_df_filtered['Bigram'] = bronte_books_df_filtered['Word 1'] + ' ' + bronte_books_df_filtered['Word 2']\n"
     ]
    }
   ],
   "source": [
    "import nltk\n",
    "from nltk.corpus import stopwords\n",
    "nltk.download('stopwords')\n",
    "\n",
    "stop_words = set(stopwords.words('english'))\n",
    "bronte_books_df['Word 1'] = bronte_books_df['Word 1'].str.lower()\n",
    "bronte_books_df['Word 2'] = bronte_books_df['Word 2'].str.lower()\n",
    "\n",
    "bronte_books_df_filtered = bronte_books_df[~bronte_books_df['Word 1'].isin(stop_words) & ~bronte_books_df['Word 2'].isin(stop_words)]\n",
    "\n",
    "bronte_books_df_filtered['Bigram'] = bronte_books_df_filtered['Word 1'] + ' ' + bronte_books_df_filtered['Word 2']\n",
    "\n",
    "top_10_bigrams = bronte_books_df_filtered['Bigram'].value_counts().head(10)\n",
    "print(top_10_bigrams)"
   ]
  },
  {
   "cell_type": "markdown",
   "metadata": {
    "id": "oSWoIcukmqZ-",
    "pycharm": {
     "name": "#%% md\n"
    }
   },
   "source": [
    "### Exercise 5\n",
    "\n",
    "1. Create a dataframe containing the **bigram, word1, word2** and **book** columns for the following 4 books and remove stop words:\n",
    "        https://www.gutenberg.org/cache/epub/1228/pg1228.txt - On the Origin of Species, by Charles Darwin\n",
    "\n",
    "        https://www.gutenberg.org/cache/epub/4363/pg4363.txt - Beyond Good and Evil, by Friedrich Nietzsche\n",
    "\n",
    "        https://www.gutenberg.org/cache/epub/3296/pg3296.txt - The Confessions of Saint Augustine, by Saint Augustine\n",
    "\n",
    "        https://www.gutenberg.org/files/1661/1661-0.txt - The Adventures of Sherlock Holmes, by Arthur Conan Doyle\n",
    "\n",
    "2. Display the most frequent 8 words of each book (use word1 column when counting)\n",
    "\n",
    "3. Display the most relevant 8 words of each book based on tf-idf (use word1 column when counting)\n",
    "\n",
    "4. Display the most relevant 5 bigrams of each book based on tf-idf\n",
    "\n",
    "5. Display the most frequent 5 street names found in the entire 4 book corpus. The book they are coming from should also be visible.\n",
    "\n",
    "6. Choose a fixed word1 of your choice and find the most common 5 bigrams in each book that have word1 equal to the word you chose.\n",
    "\n",
    "\n"
   ]
  },
  {
   "cell_type": "code",
   "execution_count": 127,
   "metadata": {
    "id": "OaylSr6OLM6W",
    "pycharm": {
     "name": "#%%\n"
    }
   },
   "outputs": [
    {
     "name": "stdout",
     "output_type": "stream",
     "text": [
      "Most frequent 8 words of each book:\n",
      "Book                                Word 1 \n",
      "Beyond Good and Evil                one        199\n",
      "                                    The        190\n",
      "                                    I          132\n",
      "                                    every      120\n",
      "                                    Project     85\n",
      "                                              ... \n",
      "The Confessions of Saint Augustine  Thee       347\n",
      "                                    yet        225\n",
      "                                    God        223\n",
      "                                    O          218\n",
      "                                    things     216\n",
      "Name: count, Length: 32, dtype: int64\n",
      "Book Beyond Good and Evil:\n",
      "morality: 0.00149700983497106\n",
      "philosopher: 0.0010964015692745792\n",
      "nowadays: 0.0007801318858299891\n",
      "refined: 0.0006114547213262076\n",
      "morals: 0.000590370075763235\n",
      "German: 0.00037628949840838875\n",
      "skepticism: 0.00033735432900756283\n",
      "distrust: 0.00033735432900756283\n",
      "\n",
      "Book On the Origin of Species:\n",
      "species: 0.0026591912107088735\n",
      "genera: 0.001834346627318293\n",
      "genus: 0.0012316327354851395\n",
      "islands: 0.0011442828960890304\n",
      "hybrids: 0.0010918729924513648\n",
      "breeds: 0.0010219931209344774\n",
      "productions: 0.000969583217296812\n",
      "formations: 0.000864763410021481\n",
      "\n",
      "Book The Adventures of Sherlock Holmes:\n",
      "Holmes: 0.005928520751507471\n",
      "Mr: 0.0017463360039766574\n",
      "Sherlock: 0.0012501445932526624\n",
      "Miss: 0.0010052709100382233\n",
      "sir: 0.0008635019355456535\n",
      "lady: 0.0008248376697749525\n",
      "Street: 0.0007732853154140181\n",
      "Well: 0.0006637365623970321\n",
      "\n",
      "Book The Confessions of Saint Augustine:\n",
      "Thee: 0.010554683587525053\n",
      "Thou: 0.00606140400312153\n",
      "Thy: 0.005192904325062327\n",
      "unto: 0.0021049054697407105\n",
      "Him: 0.0017008118695326084\n",
      "Thine: 0.0011218120841598057\n",
      "heaven: 0.0010976870931026057\n",
      "hast: 0.0009227809079379047\n",
      "\n",
      "Book Beyond Good and Evil:\n",
      "morality of: 0.01646710818468166\n",
      "morality as: 0.0074850491748553\n",
      "among the: 0.006353166880104424\n",
      "morality in: 0.00598803933988424\n",
      "morality itself: 0.00598803933988424\n",
      "\n",
      "Book On the Origin of Species:\n",
      "species of: 0.5557709630381545\n",
      "species and: 0.28187426833514057\n",
      "species which: 0.1701882374853679\n",
      "species are: 0.14359632537827918\n",
      "species in: 0.1382779429568614\n",
      "\n",
      "Book The Adventures of Sherlock Holmes:\n",
      "Holmes I: 0.17785562254522413\n",
      "Holmes and: 0.1244989357816569\n",
      "Sherlock Holmes: 0.12126402554550825\n",
      "Mr Holmes: 0.12049718427438935\n",
      "Holmes had: 0.09485633202411954\n",
      "\n",
      "Book The Confessions of Saint Augustine:\n",
      "Thee and: 1.0449136751649803\n",
      "Thou hast: 0.6000789963090315\n",
      "Thee O: 0.5066248122012026\n",
      "Thou art: 0.40611406820914253\n",
      "Thee that: 0.3377498748008017\n",
      "\n",
      "\n",
      "Most frequent 5 street names found in the entire 4 book corpus:\n",
      "Word 1\n",
      "Street    35\n",
      "Baker     33\n",
      "Avenue     4\n",
      "Lane       3\n",
      "Park       2\n",
      "Name: count, dtype: int64\n",
      "\n",
      "Most common 5 bigrams in each book with 'Word 1' equal to 'origin':\n",
      "Word 2\n",
      "Instincts    2\n",
      "Natural      2\n",
      "explained    2\n",
      "A            2\n",
      "How          2\n",
      "Name: count, dtype: int64\n"
     ]
    }
   ],
   "source": [
    "# Write your code below\n",
    "import requests\n",
    "import string\n",
    "import pandas as pd\n",
    "import numpy as np\n",
    "import nltk\n",
    "from nltk.tokenize import word_tokenize\n",
    "from nltk.corpus import stopwords\n",
    "\n",
    "book_urls = [\n",
    "    'https://www.gutenberg.org/cache/epub/1228/pg1228.txt',  # On the Origin of Species, by Charles Darwin\n",
    "    'https://www.gutenberg.org/cache/epub/4363/pg4363.txt', # Beyond Good and Evil, by Friedrich Nietzsche\n",
    "    'https://www.gutenberg.org/cache/epub/3296/pg3296.txt', # The Confessions of Saint Augustine, by Saint Augustine\n",
    "    'https://www.gutenberg.org/files/1661/1661-0.txt'        # The Adventures of Sherlock Holmes, by Arthur Conan Doyle\n",
    "]\n",
    "\n",
    "books = []\n",
    "allowed_chars = string.ascii_letters + string.digits + string.whitespace\n",
    "\n",
    "for url in book_urls:\n",
    "    response = requests.get(url)\n",
    "    text = response.text\n",
    "    text = ''.join(c for c in text if c in allowed_chars)\n",
    "    books.append(text)\n",
    "\n",
    "book_dfs = []\n",
    "\n",
    "book_dict={\n",
    "    1: \"On the Origin of Species\",\n",
    "    2: \"Beyond Good and Evil\",\n",
    "    3: \"The Confessions of Saint Augustine\",\n",
    "    4: \"The Adventures of Sherlock Holmes\"\n",
    "}\n",
    "\n",
    "for idx, book_text in enumerate(books, start=1):\n",
    "    book_bigrams = list(nltk.bigrams(word_tokenize(book_text)))\n",
    "    book_df = pd.DataFrame(book_bigrams, columns=['Word 1', 'Word 2'])\n",
    "    book_df['Book'] = book_dict[idx]\n",
    "    book_dfs.append(book_df)\n",
    "\n",
    "all_books_df = pd.concat(book_dfs, ignore_index=True)\n",
    "\n",
    "stop_words = set(stopwords.words('english'))\n",
    "all_books_df_cleaned = all_books_df[~all_books_df['Word 1'].isin(stop_words) & ~all_books_df['Word 2'].isin(stop_words)]\n",
    "\n",
    "top_8_words_per_book = all_books_df_cleaned.groupby('Book')['Word 1'].value_counts().groupby('Book').head(8)\n",
    "print(\"Most frequent 8 words of each book:\")\n",
    "print(top_8_words_per_book)\n",
    "\n",
    "all_books_df['tf'] = all_books_df.groupby(['Book', 'Word 1'])['Word 1'].transform('count') / all_books_df.groupby('Book')['Word 1'].transform('count')\n",
    "total_books = len(all_books_df['Book'].unique())\n",
    "all_books_df['idf'] = np.log(total_books / all_books_df.groupby('Word 1')['Book'].transform('nunique'))\n",
    "all_books_df['tf_idf'] = all_books_df['tf'] * all_books_df['idf']\n",
    "sorted_df = all_books_df.sort_values(by='tf_idf', ascending=False).drop_duplicates(\"Word 1\")\n",
    "for book, group in sorted_df.groupby('Book'):\n",
    "    print(f\"Book {book}:\")\n",
    "    for idx, row in group.head(8).iterrows():\n",
    "        print(f\"{row['Word 1']}: {row['tf_idf']}\")\n",
    "    print()\n",
    "\n",
    "\n",
    "bigram_tfidf_per_book = all_books_df.groupby(['Book', 'Word 1', 'Word 2'])['tf_idf'].sum().reset_index()\n",
    "\n",
    "# Sort the DataFrame by tf-idf values in descending order\n",
    "sorted_bigram_tfidf = bigram_tfidf_per_book.sort_values(by='tf_idf', ascending=False)\n",
    "\n",
    "# Display the most relevant 5 bigrams of each book based on tf-idf\n",
    "for book, group in sorted_bigram_tfidf.groupby('Book'):\n",
    "    print(f\"Book {book}:\")\n",
    "    for idx, row in group.head(5).iterrows():\n",
    "        print(f\"{row['Word 1']} {row['Word 2']}: {row['tf_idf']}\")\n",
    "    print()\n",
    "\n",
    "# Extract street names from the entire corpus\n",
    "street_names = ['Baker', 'Street', 'Park', 'Avenue', 'Lane']  # Example street names\n",
    "street_names_df = all_books_df_cleaned[all_books_df_cleaned['Word 1'].isin(street_names)]\n",
    "most_frequent_street_names = street_names_df['Word 1'].value_counts().head(5)\n",
    "print(\"\\nMost frequent 5 street names found in the entire 4 book corpus:\")\n",
    "print(most_frequent_street_names)\n",
    "\n",
    "\n",
    "# Choose a fixed word1 and find the most common 5 bigrams in each book that have word1 equal to the chosen word\n",
    "fixed_word1 = 'origin'  # Example fixed word1\n",
    "most_common_bigrams_with_word1 = all_books_df_cleaned[all_books_df_cleaned['Word 1'] == fixed_word1]['Word 2'].value_counts().head(5)\n",
    "print(f\"\\nMost common 5 bigrams in each book with 'Word 1' equal to '{fixed_word1}':\")\n",
    "print(most_common_bigrams_with_word1)"
   ]
  }
 ],
 "metadata": {
  "colab": {
   "provenance": []
  },
  "kernelspec": {
   "display_name": "Python 3 (ipykernel)",
   "language": "python",
   "name": "python3"
  },
  "language_info": {
   "codemirror_mode": {
    "name": "ipython",
    "version": 3
   },
   "file_extension": ".py",
   "mimetype": "text/x-python",
   "name": "python",
   "nbconvert_exporter": "python",
   "pygments_lexer": "ipython3",
   "version": "3.9.7"
  }
 },
 "nbformat": 4,
 "nbformat_minor": 0
}